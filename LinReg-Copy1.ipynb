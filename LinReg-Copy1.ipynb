{
 "cells": [
  {
   "cell_type": "markdown",
   "metadata": {},
   "source": [
    "# LinReg"
   ]
  },
  {
   "cell_type": "markdown",
   "metadata": {},
   "source": [
    "Vi har laget et program som tar inn tre punkter og printer en linje som best representerer punktene. Programmet gjennomfører en linjer regresjon"
   ]
  },
  {
   "cell_type": "code",
   "execution_count": 2,
   "metadata": {},
   "outputs": [],
   "source": [
    "y = [3,5,12 ]\n",
    "\n",
    "x = [1,2,3]\n",
    "\n",
    "a_1 = (y[1]-y[0])/(x[1]-x[0])\n",
    "\n",
    "b_1 = y[0]-a_1*x[0]\n",
    "\n",
    "\n",
    "a_2 = (y[2]-y[0])/(x[2]-x[0])\n",
    "\n",
    "b_2 = y[0]-a_2*x[0]\n",
    "\n",
    "\n",
    "a_3 = (y[2]-y[1])/(x[2]-x[1])\n",
    "\n",
    "b_3 = y[1]-a_3*x[1]"
   ]
  },
  {
   "cell_type": "markdown",
   "metadata": {},
   "source": [
    "Det første vi gjør er å definere de trepunktene som matriser(arrays)"
   ]
  },
  {
   "cell_type": "markdown",
   "metadata": {},
   "source": [
    "Vi ser for oss en linje imellom to og to av punktene og finner så stignignstallet og punktet hvor linjen skjærer y-aksen. For å finne stigningstallet bruker vi ettpunktformelen med hensyn på stgningstallet. For å finne hvor linjen skjærer y-aksen bruker vi y=m*x+b med henysn på b. Dette gir oss tre linjer stigningstall og tre skjærings punkter"
   ]
  },
  {
   "cell_type": "code",
   "execution_count": 3,
   "metadata": {},
   "outputs": [],
   "source": [
    "\n",
    "if a_1 < a_2 and a_1 < a_3:\n",
    "    a_min = a_1\n",
    "elif a_2 < a_1 and a_2 < a_3:\n",
    "    a_min = a_2\n",
    "elif a_3 < a_2 and a_3 < a_1:\n",
    "    a_min = a_3\n",
    "    \n",
    "if a_1 > a_2 and a_1 > a_3:\n",
    "    a_maks = a_1\n",
    "elif a_2 > a_1 and a_2 > a_3:\n",
    "    a_maks = a_2\n",
    "elif a_3 > a_2 and a_3 > a_1:\n",
    "    a_maks= a_3\n",
    "\n",
    "if b_1 < b_2 and b_1 < b_3:\n",
    "    b_min = b_1\n",
    "elif b_2 < b_1 and b_2 < b_3:\n",
    "    a_min = a_2\n",
    "elif b_3 < b_2 and b_3 < b_1:\n",
    "    b_min = b_3\n",
    "    \n",
    "if b_1 > b_2 and b_1 > b_3:\n",
    "    b_maks = b_1\n",
    "elif b_2 > b_1 and b_2 > b_3:\n",
    "    b_maks = b_2\n",
    "elif b_3 > b_2 and b_3 > b_1:\n",
    "   b_maks= b_3"
   ]
  },
  {
   "cell_type": "markdown",
   "metadata": {},
   "source": [
    "Videre så finner det største og minste stignistallet og det største og minste skjæringspunktet"
   ]
  },
  {
   "cell_type": "code",
   "execution_count": 6,
   "metadata": {},
   "outputs": [
    {
     "name": "stdout",
     "output_type": "stream",
     "text": [
      "4.169999999999295\n",
      "4.4999999999999645\n",
      "-2.3000000000034517\n"
     ]
    }
   ],
   "source": [
    "g = []\n",
    "h = []\n",
    "feil = 1000\n",
    "\n",
    "a = a_min\n",
    "b = b_min\n",
    "\n",
    "while a < a_maks:\n",
    "    a += 0.1\n",
    "    b = b_min\n",
    "    while b < b_maks:\n",
    "        f = (y[0]-(a*x[0]+b))**2+(y[1]-(a*x[1]+b))**2+(y[2]-(a*x[2]+b))**2\n",
    "        if f < feil:\n",
    "            feil = f\n",
    "            g.append(a)\n",
    "            h.append(b)\n",
    "        b += 0.1\n",
    "\n",
    "print(feil)\n",
    "\n",
    "print(g[-1])\n",
    "print(h[-1])"
   ]
  },
  {
   "cell_type": "markdown",
   "metadata": {},
   "source": [
    "Vi lager to tomme lister og definerer en feil. Til slutt kjører vi en if-test i en while-løkke i en while-løkke. Løkken øker gradevis stgningstallet og skjæringspunktet helt til feilen er akseptabel. Når feilen er akseptabel legger vi de nye verdiene inn i listene og printer deretter den siste verdien i begge listene. Programmet printer til slutt ut stigningstallet og skjæringspunktet.  "
   ]
  },
  {
   "cell_type": "code",
   "execution_count": 7,
   "metadata": {},
   "outputs": [
    {
     "name": "stdout",
     "output_type": "stream",
     "text": [
      "6.439999999999632\n",
      "-7.000000000003443\n"
     ]
    }
   ],
   "source": [
    "from pylab import *\n",
    "\n",
    "\n",
    "\n",
    "y = [3,5,12,18,33,59,44,80,90,105,110,130]\n",
    "a_liste = []\n",
    "b_liste = []\n",
    "x = [1,2,3,4,7,9,10,12,15,17,19,21]\n",
    "\n",
    "for i in range(0,len(x)):\n",
    "    for j in range(0,len(x)):\n",
    "        if j!=i:\n",
    "            a_test = (y[j]-y[i])/(x[j]-x[i])\n",
    "            a_liste.append(a_test)\n",
    "            b_test = y[i]-a_test*x[i]\n",
    "            b_liste.append(b_test)\n",
    "\n",
    "a_maks = max(a_liste)\n",
    "a_min = min(a_liste)\n",
    "b_maks = max(a_liste)\n",
    "b_min = min(b_liste)\n",
    "    \n",
    "g = []\n",
    "h = []\n",
    "l = []\n",
    "\n",
    "feil = 100000000000000\n",
    "\n",
    "a = a_min\n",
    "b = b_min\n",
    "\n",
    "while a < a_maks:\n",
    "    a += 0.01\n",
    "    b = b_min\n",
    "    while b < b_maks:\n",
    "        f = 0\n",
    "        for i in range(0,len(x)):\n",
    "            f = f+(y[i]-(a*x[i]+b))**2\n",
    "        if f < feil:\n",
    "            feil = f\n",
    "            h.append(b)\n",
    "            g.append(a)\n",
    "        b += 00.1\n",
    "\n",
    "\n",
    "print(g[-1])\n",
    "print(h[-1])\n"
   ]
  },
  {
   "cell_type": "markdown",
   "metadata": {},
   "source": [
    "Her er en nyere kode som kan lage linjeær regresojn for x antall punkter. Forskjellen på de to prgrammene er at det andre programmet bruker en loop til å finne den bratteste og slaketse linjen, og den linjen med høest og lavest konstant. Den bruker en loop for å finne avstaden imellom linjen den tester for og avstanden til alle punktene."
   ]
  },
  {
   "cell_type": "code",
   "execution_count": null,
   "metadata": {},
   "outputs": [],
   "source": []
  }
 ],
 "metadata": {
  "kernelspec": {
   "display_name": "Python 3",
   "language": "python",
   "name": "python3"
  },
  "language_info": {
   "codemirror_mode": {
    "name": "ipython",
    "version": 3
   },
   "file_extension": ".py",
   "mimetype": "text/x-python",
   "name": "python",
   "nbconvert_exporter": "python",
   "pygments_lexer": "ipython3",
   "version": "3.6.5"
  }
 },
 "nbformat": 4,
 "nbformat_minor": 2
}
